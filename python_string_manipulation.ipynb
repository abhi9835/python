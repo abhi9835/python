{
 "cells": [
  {
   "cell_type": "markdown",
   "metadata": {},
   "source": [
    "## 1. Valid Password\n",
    "\n",
    "Write a program to check whether the given password is valid or not.\n",
    "Consider the password to be valid if it contains at least one uppercase letter, one lowercase letter, and one digit.\n",
    "\n",
    "Input\n",
    "\n",
    "The input will be a single line containing a string.\n",
    "\n",
    "Output\n",
    "\n",
    "The output should be a single line containing either \"Valid Password\" or \"Invalid Password\".\n",
    "Explanation\n",
    "\n",
    "For example, if the given password is \"Qwerty00\", the output should be \"Valid Password\" as it contains an uppercase letter, a lowercase letter, and a digit.\n",
    "\n",
    "Whereas, if the given password is \"Dashboard\", the output should be \"Invalid Password\" as it does not contain a digit.\n",
    "\n",
    "Sample Input 1\n",
    "\n",
    "Qwerty00\n",
    "\n",
    "Sample Output 1\n",
    "\n",
    "Valid Password"
   ]
  },
  {
   "cell_type": "code",
   "execution_count": 1,
   "metadata": {},
   "outputs": [
    {
     "name": "stdout",
     "output_type": "stream",
     "text": [
      "Qwerty00\n",
      "Valid Password\n"
     ]
    }
   ],
   "source": [
    "password_input = input()\n",
    "password_upper = password_input.upper()\n",
    "password_lower = password_input.lower()\n",
    "password_valid = False\n",
    "\n",
    "for i in range(len(password_input)):\n",
    "    if password_input[i] == password_upper[i] and password_input[i] == password_lower[i] and password_input[i].isdigit():\n",
    "        password_valid = True\n",
    "        \n",
    "# for i in range(len(password_input)):\n",
    "#     if password_input[i].isdigit():\n",
    "#         password_valid = True\n",
    "        \n",
    "if password_valid:\n",
    "    print('Valid Password')\n",
    "else:\n",
    "    print('Invalid Password')\n",
    "    "
   ]
  },
  {
   "cell_type": "markdown",
   "metadata": {},
   "source": [
    "## 2. Multiplication Table\n",
    "\n",
    "Write a program to print the multiplication table of the given number (N) up to ten multiples in the format \"N x i = M\".\n",
    "\n",
    "Input\n",
    "\n",
    "The first line of input will contain an integer.\n",
    "\n",
    "Output\n",
    "\n",
    "\n",
    "The output should be ten lines containing the multiples in the given format.\n",
    "\n",
    "Explanation\n",
    "\n",
    "For example, if the given number is 3, your code should print the multiplication table like\n",
    "\n",
    "3 x 1 = 3\n",
    "\n",
    "3 x 2 = 6\n",
    "\n",
    "3 x 3 = 9\n",
    "\n",
    "3 x 4 = 12\n",
    "\n",
    "3 x 5 = 15\n",
    "\n",
    "3 x 6 = 18\n",
    "\n",
    "3 x 7 = 21\n",
    "\n",
    "3 x 8 = 24\n",
    "\n",
    "3 x 9 = 27\n",
    "\n",
    "3 x 10 = 30\n",
    "\n",
    "Sample Input 1\n",
    "\n",
    "3\n",
    "\n",
    "Sample Output 1\n",
    "\n",
    "3 x 1 = 3\n",
    "\n",
    "3 x 2 = 6\n",
    "\n",
    "3 x 3 = 9\n",
    "\n",
    "3 x 4 = 12\n",
    "\n",
    "3 x 5 = 15\n",
    "\n",
    "3 x 6 = 18\n",
    "\n",
    "3 x 7 = 21\n",
    "\n",
    "3 x 8 = 24\n",
    "\n",
    "3 x 9 = 27\n",
    "\n",
    "3 x 10 = 30"
   ]
  },
  {
   "cell_type": "code",
   "execution_count": 2,
   "metadata": {},
   "outputs": [
    {
     "name": "stdout",
     "output_type": "stream",
     "text": [
      "3\n",
      "3 x 1 = 3\n",
      "3 x 2 = 6\n",
      "3 x 3 = 9\n",
      "3 x 4 = 12\n",
      "3 x 5 = 15\n",
      "3 x 6 = 18\n",
      "3 x 7 = 21\n",
      "3 x 8 = 24\n",
      "3 x 9 = 27\n",
      "3 x 10 = 30\n"
     ]
    }
   ],
   "source": [
    "N = int(input())\n",
    "\n",
    "for i in range(1,11):\n",
    "    table = str(N) + ' x ' + str(i) + ' = ' + str(N*i)\n",
    "    print(table)"
   ]
  },
  {
   "cell_type": "markdown",
   "metadata": {},
   "source": [
    "## 3. Reverse the String\n",
    "\n",
    "Write a program to print the reverse of the given string.\n",
    "\n",
    "Input\n",
    "\n",
    "The input will be a single line containing a string.\n",
    "\n",
    "Output\n",
    "\n",
    "The output should be a single line containing the reverse of the given string.\n",
    "\n",
    "Explanation\n",
    "\n",
    "For example, if the given string is \"Hurray! We have won the match.\", your code should print the reverse of the string, which is \".hctam eht now evah eW !yarruH\".\n",
    "\n",
    "Sample Input 1\n",
    "\n",
    "Hurray! We have won the match.\n",
    "\n",
    "Sample Output 1\n",
    "\n",
    ".hctam eht now evah eW !yarruH"
   ]
  },
  {
   "cell_type": "code",
   "execution_count": 3,
   "metadata": {},
   "outputs": [
    {
     "name": "stdout",
     "output_type": "stream",
     "text": [
      "Hurray! We have won the match.\n",
      ".hctam eht now evah eW !yarruH\n"
     ]
    }
   ],
   "source": [
    "string = input()\n",
    "\n",
    "str_1 = ''\n",
    "i = -1\n",
    "while i >= -len(string):\n",
    "    str_1 = str_1 + string[i]\n",
    "    i = i - 1\n",
    "    \n",
    "print(str_1)"
   ]
  },
  {
   "cell_type": "markdown",
   "metadata": {},
   "source": [
    "## 4. sum of Series\n",
    "\n",
    "Write a program to find the sum of the series 2 +22 + 222 + 2222 + .. N terms.\n",
    "\n",
    "Input\n",
    "\n",
    "The input will be a single line containing a positive integer (N).\n",
    "\n",
    "Output\n",
    "\n",
    "The output should be a single line containing the sum of the series up to N terms.\n",
    "\n",
    "Explanation\n",
    "\n",
    "For example, if the given number is 4, the series will be\n",
    "2 + 22 + 222 + 2222\n",
    "So the output should be the sum of the series, which is 2468.\n",
    "\n",
    "Similarly, if the given number is 8, the series will be\n",
    "2 + 22 + 222 + 2222 + 22222 + 222222 + 2222222 + 22222222\n",
    "So the output should be the sum of the series, which is 24691356.\n",
    "\n",
    "\n",
    "Sample Input 1\n",
    "\n",
    "3\n",
    "\n",
    "Sample Output 1\n",
    "\n",
    "246"
   ]
  },
  {
   "cell_type": "code",
   "execution_count": 4,
   "metadata": {},
   "outputs": [
    {
     "name": "stdout",
     "output_type": "stream",
     "text": [
      "3\n",
      "246\n"
     ]
    }
   ],
   "source": [
    "N = int(input())\n",
    "term_number = '2' #when string is multiplied then it gives the repetition value\n",
    "\n",
    "sum = 0\n",
    "for i in range(1, N+1):\n",
    "    sum = sum + int(term_number*i)\n",
    "    \n",
    "print(sum)   \n",
    "    "
   ]
  },
  {
   "cell_type": "markdown",
   "metadata": {},
   "source": [
    "## 5. Armstrong number\n",
    "\n",
    "Write a program to check if a number N is an armstrong number or not.\n",
    "A N-digit number is called armstrong number if the number is equal to the sum of the Nth power of its digits.\n",
    "\n",
    "\n",
    "Input\n",
    "\n",
    "The input will be a single line containing a positive integer.\n",
    "\n",
    "\n",
    "Output\n",
    "\n",
    "The output should be a single line containing either \"Armstrong Number\" or \"Not an Armstrong Number\".\n",
    "\n",
    "\n",
    "Explanation\n",
    "\n",
    "For example, if the given number is 153, as the length of the given number is three, then the sum of the cubes of the digits in the number, which is (13 + 53 + 33) 153 equal to the given number. So the output should be \"Armstrong Number\".\n",
    "\n",
    "Similarly, if the given number is 24, as the length of the given number is two, then the sum of the squares of the digits in the number, which is (22 + 42) 20 not equal to the given number. So the output should be \"Not an Armstrong Number\".\n",
    "\n",
    "\n",
    "Sample Input 1\n",
    "\n",
    "153\n",
    "\n",
    "Sample Output 1\n",
    "\n",
    "Armstrong Number\n"
   ]
  },
  {
   "cell_type": "code",
   "execution_count": 5,
   "metadata": {},
   "outputs": [
    {
     "name": "stdout",
     "output_type": "stream",
     "text": [
      "153\n",
      "Armstrong Number\n"
     ]
    }
   ],
   "source": [
    "N = input()\n",
    "N_int = int(N)\n",
    "\n",
    "sum = 0\n",
    "if N_int in range(1, 10):\n",
    "    sum = sum + N_int\n",
    "else:\n",
    "    for i in range(len(N)):\n",
    "        sum = sum + (int(N[i]))**3\n",
    "    \n",
    "if sum == int(N):\n",
    "    print('Armstrong Number')\n",
    "else:\n",
    "    print('Not an Armstrong Number')"
   ]
  },
  {
   "cell_type": "markdown",
   "metadata": {},
   "source": [
    "## 6. Hollow Square\n",
    "\n",
    "Write a program to print a hollow square pattern of N rows and N columns using the asterisk character (*), where integer N is given as an input.\n",
    "\n",
    "Input\n",
    "\n",
    "The input will be a single line containing a positive integer.\n",
    "\n",
    "Output\n",
    "\n",
    "The output should be the N number of lines and N number of columns with the asterisk character (*).\n",
    "Note: There is a space after each asterisk character(*).\n",
    "\n",
    "Explanation\n",
    "\n",
    "For example, if the given number is 4, your code should print the following pattern:\n",
    "\n",
    "* * * * \n",
    "*     * \n",
    "*     * \n",
    "* * * *\n",
    "\n",
    "\n",
    "For example, if the given number is 6, your code should print the following pattern:\n",
    "\n",
    "* * * * * * \n",
    "*         * \n",
    "*         * \n",
    "*         * \n",
    "*         * \n",
    "* * * * * * \n",
    "\n",
    "Sample Input 1\n",
    "\n",
    "4\n",
    "\n",
    "Sample Output 1\n",
    "\n",
    "* * * * \n",
    "*     * \n",
    "*     * \n",
    "* * * *\n"
   ]
  },
  {
   "cell_type": "code",
   "execution_count": 6,
   "metadata": {},
   "outputs": [
    {
     "name": "stdout",
     "output_type": "stream",
     "text": [
      "5\n",
      "* * * * * \n",
      "*       *\n",
      "*       *\n",
      "*       *\n",
      "* * * * * \n"
     ]
    }
   ],
   "source": [
    "N = int(input())\n",
    "\n",
    "print('* '*N)\n",
    "\n",
    "for i in range(2, N):\n",
    "    print('* ' + '  '*(N-2) + '*')\n",
    "    \n",
    "print('* '*N)"
   ]
  },
  {
   "cell_type": "code",
   "execution_count": null,
   "metadata": {},
   "outputs": [],
   "source": []
  },
  {
   "cell_type": "code",
   "execution_count": null,
   "metadata": {},
   "outputs": [],
   "source": []
  },
  {
   "cell_type": "code",
   "execution_count": null,
   "metadata": {},
   "outputs": [],
   "source": []
  },
  {
   "cell_type": "code",
   "execution_count": null,
   "metadata": {},
   "outputs": [],
   "source": []
  },
  {
   "cell_type": "code",
   "execution_count": null,
   "metadata": {},
   "outputs": [],
   "source": []
  },
  {
   "cell_type": "code",
   "execution_count": null,
   "metadata": {},
   "outputs": [],
   "source": []
  },
  {
   "cell_type": "code",
   "execution_count": null,
   "metadata": {},
   "outputs": [],
   "source": []
  },
  {
   "cell_type": "code",
   "execution_count": null,
   "metadata": {},
   "outputs": [],
   "source": []
  }
 ],
 "metadata": {
  "kernelspec": {
   "display_name": "Python 3",
   "language": "python",
   "name": "python3"
  },
  "language_info": {
   "codemirror_mode": {
    "name": "ipython",
    "version": 3
   },
   "file_extension": ".py",
   "mimetype": "text/x-python",
   "name": "python",
   "nbconvert_exporter": "python",
   "pygments_lexer": "ipython3",
   "version": "3.7.6"
  }
 },
 "nbformat": 4,
 "nbformat_minor": 4
}
