{
 "cells": [
  {
   "cell_type": "markdown",
   "metadata": {},
   "source": [
    "## 1. Solid Diamond\n",
    "\n",
    "Write a program to print a solid diamond pattern of 2N - 1 rows using the asterisk character (*).\n",
    "\n",
    "Input\n",
    "\n",
    "The input will be a single line containing a positive integer (N).\n",
    "\n",
    "Output\n",
    "\n",
    "The output should be of 2N-1 rows containing an asterisk(*) character in a solid diamond pattern.\n",
    "Note: There is a space after each asterisk(*) character.\n",
    "\n",
    "Explanation\n",
    "\n",
    "For example, if the given number is 3, your code should print the following pattern:\n",
    "\n",
    "  * \n",
    " * * \n",
    "* * * \n",
    " * * \n",
    "  * \n",
    "  "
   ]
  },
  {
   "cell_type": "markdown",
   "metadata": {},
   "source": [
    "sample Input\n",
    "\n",
    "3"
   ]
  },
  {
   "cell_type": "markdown",
   "metadata": {},
   "source": [
    "sample output"
   ]
  },
  {
   "cell_type": "code",
   "execution_count": null,
   "metadata": {},
   "outputs": [],
   "source": [
    "  * \n",
    " * * \n",
    "* * * \n",
    " * * \n",
    "  * "
   ]
  },
  {
   "cell_type": "code",
   "execution_count": 1,
   "metadata": {},
   "outputs": [
    {
     "name": "stdout",
     "output_type": "stream",
     "text": [
      "3\n",
      "  * \n",
      " * * \n",
      "* * * \n",
      " * * \n",
      "  * \n"
     ]
    }
   ],
   "source": [
    "height = int(input())\n",
    "\n",
    "for i in range(1, height+1):\n",
    "    spaces = (height-i)*' '\n",
    "    stars = i*'* '\n",
    "    print(spaces + stars)\n",
    "    \n",
    "for i in range(1, height):\n",
    "    spaces = i*' '\n",
    "    stars = (height-i)*'* '\n",
    "    print(spaces + stars)\n",
    "    "
   ]
  },
  {
   "cell_type": "markdown",
   "metadata": {},
   "source": [
    "## 2. Prime Numbers from M to N\n",
    "\n",
    "Given two integers M and N, write a program to print all the prime numbers from M to N.\n",
    "\n",
    "Input\n",
    "\n",
    "The first line of input will contain a positive integer (M).\n",
    "\n",
    "The second line of input will contain a positive integer (N).\n",
    "\n",
    "Output\n",
    "\n",
    "The output should be containing all the prime numbers from M to N, each in a new line.\n",
    "\n",
    "Explanation\n",
    "\n",
    "For example, if the given numbers are M is 5 and N is 11, as all the prime numbers from 5 to 11 are 5, 7, and 11. So the output should be\n",
    "5\n",
    "7\n",
    "11\n",
    "\n",
    "\n",
    "Similarly, if the given numbers are M is 18 and N is 40, as all the prime numbers from 18 to 40 are 19, 23, 29, 31,and 37. So the output should\n",
    "19\n",
    "23\n",
    "29\n",
    "31\n",
    "37\n",
    "\n",
    "Sample Input 1\n",
    "\n",
    "5\n",
    "\n",
    "11\n",
    "\n",
    "Sample Output 1\n",
    "\n",
    "5\n",
    "\n",
    "7\n",
    "\n",
    "11\n"
   ]
  },
  {
   "cell_type": "code",
   "execution_count": 4,
   "metadata": {},
   "outputs": [
    {
     "name": "stdout",
     "output_type": "stream",
     "text": [
      "5\n",
      "11\n",
      "5\n",
      "7\n",
      "11\n"
     ]
    }
   ],
   "source": [
    "M = int(input())\n",
    "N = int(input())\n",
    "\n",
    "for number in range(M, N+1):\n",
    "    factors = 0\n",
    "    for i in range(2, number): #as we need to check these numbers are prime or not. So, the range will be as shown.\n",
    "        if number%i == 0:\n",
    "            factors = factors + 1\n",
    "            \n",
    "    if factors == 0:\n",
    "        print(number)\n",
    "        "
   ]
  },
  {
   "cell_type": "markdown",
   "metadata": {},
   "source": [
    "## 3. Numbers in Square Pattern - 3\n",
    "\n",
    "Write a program to print the numbers in the given N number of rows in the following square pattern.\n",
    "\n",
    "1 2 3\n",
    "\n",
    "4 5 6\n",
    "\n",
    "7 8 9\n",
    "\n",
    "Input\n",
    "\n",
    "The input will be a single line containing a positive integer (N).\n",
    "\n",
    "Output\n",
    "\n",
    "The output should be N rows containing numbers up to N2 in the square pattern.\n",
    "Note: There is a space after each number.\n",
    "\n",
    "Explanation\n",
    "\n",
    "For example, if the given number is 3, your code should print the consecutive numbers up to N2 in the 3 rows and 3 columns.\n",
    "\n",
    "Sample Input 1\n",
    "\n",
    "3\n",
    "\n",
    "Sample Output 1\n",
    "\n",
    "1 2 3 \n",
    "\n",
    "4 5 6\n",
    "\n",
    "7 8 9\n"
   ]
  },
  {
   "cell_type": "code",
   "execution_count": 5,
   "metadata": {},
   "outputs": [
    {
     "name": "stdout",
     "output_type": "stream",
     "text": [
      "3\n",
      "1 2 3 \n",
      "4 5 6 \n",
      "7 8 9 \n"
     ]
    }
   ],
   "source": [
    "N = int(input())\n",
    "\n",
    "number = 1 #It will be used for initial initialisation. after that number will nor be initialsed. THe increased value of number will be used for next loop.\n",
    "for i in range(N):\n",
    "    # number = 1\n",
    "    pattern = '' #for every i pattern will intialise with an empty string\n",
    "    for j in range(N):\n",
    "        pattern = pattern + (str(number) + ' ')\n",
    "        number = number + 1\n",
    "        # print(number)\n",
    "    print(pattern)"
   ]
  },
  {
   "cell_type": "markdown",
   "metadata": {},
   "source": [
    "## 4. Hollow Full Pyramid - 1\n",
    "\n",
    "Given the number of rows N, write a program to print the hallow full pyramid pattern similar to the pattern shown below.\n",
    "\n",
    "    * \n",
    "   * * \n",
    "  *   * \n",
    " *     * \n",
    "* * * * *\n",
    "\n",
    "Input\n",
    "\n",
    "The input will be a single line containing a positive integer (N).\n",
    "\n",
    "Output\n",
    "\n",
    "The output should be N rows containing the asterisk(*) characters in the hollow full pyramid pattern.\n",
    "\n",
    "Explanation\n",
    "\n",
    "For example, if the given number is 5, the pattern should contain 5 rows as shown below\n",
    "\n",
    "    * \n",
    "   * * \n",
    "  *   * \n",
    " *     * \n",
    "* * * * * \n",
    "\n",
    "Sample Input 1\n",
    "\n",
    "5\n",
    "\n",
    "Sample Output 1\n"
   ]
  },
  {
   "cell_type": "code",
   "execution_count": null,
   "metadata": {},
   "outputs": [],
   "source": [
    "    * \n",
    "   * * \n",
    "  *   * \n",
    " *     * \n",
    "* * * * * "
   ]
  },
  {
   "cell_type": "code",
   "execution_count": 1,
   "metadata": {},
   "outputs": [
    {
     "name": "stdout",
     "output_type": "stream",
     "text": [
      "5\n",
      "    * \n",
      "   * * \n",
      "  *   * \n",
      " *     * \n",
      "* * * * * \n"
     ]
    }
   ],
   "source": [
    "# print(' '*4 + '* '*1)\n",
    "# print(' '*3 + '* ' + '  '*0 + '*')\n",
    "# print(' '*2 + '* ' + '  '*1 + '*')\n",
    "# print(' '*1 + '* ' + \"  \"*2 + '*')\n",
    "# print(' '*0 + '* '*5) \n",
    "#always try to go for a question using above pattern for a test case and then convert it to a for loop or a while \n",
    "#loop pattern.\n",
    "\n",
    "N = int(input())\n",
    "\n",
    "for i in range(1, N+1):\n",
    "    if i > 1 and i < N:\n",
    "        start_hollow_spaces = ' '*(N-i)\n",
    "        between_hollow_spaces = '  '*(i-2)\n",
    "        print(start_hollow_spaces + '* ' + between_hollow_spaces + '* ')\n",
    "    else:\n",
    "        print(\" \"*(N-i) + '* '*i)"
   ]
  },
  {
   "cell_type": "markdown",
   "metadata": {},
   "source": [
    "## 5. Hallow Inverted Full Pyramid - 1\n",
    "\n",
    "Given the number of rows N, write a program to print the hallow inverted full pyramid pattern similar to the pattern shown below.\n",
    "\n",
    "* * * * * \n",
    " *     * \n",
    "  *   * \n",
    "   * * \n",
    "    * \n",
    "    \n",
    "Input\n",
    "\n",
    "The input will be a single line containing a positive integer (N).\n",
    "\n",
    "Output\n",
    "\n",
    "The output should be N rows containing the asterisk(*) character in the hollow inverted full pyramid pattern.\n",
    "Note: There is a space after each asterisk(*) character.\n",
    "\n",
    "Explanation\n",
    "\n",
    "For example, if the given number is 5, the pattern should contain 5 rows as shown below\n",
    "\n",
    "* * * * * \n",
    " *     * \n",
    "  *   * \n",
    "   * * \n",
    "    * \n",
    "    \n",
    "Sample Input 1\n",
    "\n",
    "5\n",
    "\n",
    "Sample Output 1"
   ]
  },
  {
   "cell_type": "code",
   "execution_count": null,
   "metadata": {},
   "outputs": [],
   "source": [
    "* * * * * \n",
    " *     * \n",
    "  *   * \n",
    "   * * \n",
    "    * "
   ]
  },
  {
   "cell_type": "code",
   "execution_count": 2,
   "metadata": {},
   "outputs": [
    {
     "name": "stdout",
     "output_type": "stream",
     "text": [
      "5\n",
      "* * * * * \n",
      " *     * \n",
      "  *   * \n",
      "   * * \n",
      "    * \n"
     ]
    }
   ],
   "source": [
    "# print(' '*0 + '* '*5)\n",
    "# print(' '*1 + '* ' + \"  \"*2 + '*')\n",
    "# print(' '*2 + '* ' + '  '*1 + '*')\n",
    "# print(' '*3 + '* ' + '  '*0 + '*')\n",
    "# print(' '*4 + '* '*1)\n",
    "\n",
    "N = int(input())\n",
    "\n",
    "\n",
    "for i in range(1, N+1):\n",
    "    if i > 1 and i < N-1:\n",
    "        start_hollow_spaces = ' '*(i-1)\n",
    "        between_hollow_spaces = '  '*(N-i-1)\n",
    "        print(start_hollow_spaces + '* ' + between_hollow_spaces + '* ')\n",
    "    else:\n",
    "        print(\" \"*(i-1) + '* '*(N-i+1))\n",
    "\n",
    "#In the above question just try to follow the reverse pattern as compared to the above question and can see the \n",
    "#pattern and accordingly apply the for or while loop."
   ]
  },
  {
   "cell_type": "markdown",
   "metadata": {},
   "source": [
    "## 6. Hollow Full Pyramid - 2\n",
    "\n",
    "Given the number of rows N, write a program to print the hallow full pyramid pattern similar to the pattern shown below.\n",
    "\n",
    "    1 \n",
    "   1 2 \n",
    "  1   3 \n",
    " 1     4 \n",
    "1 2 3 4 5 \n",
    "\n",
    "Input\n",
    "\n",
    "The input will be a single line containing a positive integer (N).\n",
    "\n",
    "Output\n",
    "\n",
    "The output should be N rows containing the numbers in the hollow full pyramid pattern.\n",
    "Note: There is a space after each number.\n",
    "\n",
    "Explanation\n",
    "\n",
    "For example, if the given number is 5, the pattern should contain 5 rows as shown below\n",
    "\n",
    "    1 \n",
    "    \n",
    "   1 2\n",
    "   \n",
    "  1   3\n",
    "  \n",
    " 1     4\n",
    " \n",
    "1 2 3 4 5 \n",
    "\n",
    "Sample Input 1\n",
    "\n",
    "5\n",
    "\n",
    "Sample Output 1\n",
    "\n"
   ]
  },
  {
   "cell_type": "code",
   "execution_count": null,
   "metadata": {},
   "outputs": [],
   "source": [
    "\n",
    "    1 \n",
    "    \n",
    "   1 2\n",
    "   \n",
    "  1   3 \n",
    "  \n",
    " 1     4\n",
    " \n",
    "1 2 3 4 5 "
   ]
  },
  {
   "cell_type": "code",
   "execution_count": 3,
   "metadata": {},
   "outputs": [
    {
     "name": "stdout",
     "output_type": "stream",
     "text": [
      "5\n",
      "    1 \n",
      "   1 2 \n",
      "  1   3\n",
      " 1     4\n",
      "1 2 3 4 5 \n"
     ]
    }
   ],
   "source": [
    "N = int(input())\n",
    "\n",
    "for i in range(1, N+1):\n",
    "    if i > 2 and i < N:\n",
    "        starting_hollow_spaces = ' '*(N-i)\n",
    "        between_hollow_spaces = '  '*(i-2)\n",
    "        print(starting_hollow_spaces + '1 ' + between_hollow_spaces + str(i))\n",
    "    else:\n",
    "        number = ' '*(N-i)\n",
    "        for j in range(1, i+1):\n",
    "            number = number + str(j) + ' '\n",
    "        print(number)\n",
    "\n",
    "# print(' '*4 + '1 ')\n",
    "# print(' '*3 + '1 ' + '2 ')\n",
    "# print(' '*2 + '1 ' + '  '*1 + '3 ')\n",
    "# print(' '*1 + '1 ' + '  '*2 + '4 ')\n",
    "# print(' '*0 + '1 ' + '2 ' + '3 ' + '4 ' + '5 ')\n",
    "#apply the same logic as used in above questions."
   ]
  },
  {
   "cell_type": "markdown",
   "metadata": {},
   "source": [
    "## 7. Hollow Inverted Full Pyramid - 2\n",
    "\n",
    "Given the number of rows N, write a program to print the hallow inverted full pyramid pattern similar to the pattern shown below.\n",
    "\n",
    "1 2 3 4 5 \n",
    " 1     4 \n",
    "  1   3 \n",
    "   1 2 \n",
    "    1\n",
    "    \n",
    "Input\n",
    "\n",
    "The input will be a single line containing a positive integer (N).\n",
    "\n",
    "Output\n",
    "\n",
    "The output should be N rows containing the numbers in the hollow inverted full pyramid pattern.\n",
    "Note: There is a space after each number.\n",
    "\n",
    "Explanation\n",
    "\n",
    "For example, if the given number is 5, the pattern should contain 5 rows as shown below\n",
    "\n",
    "1 2 3 4 5 \n",
    " 1     4 \n",
    "  1   3 \n",
    "   1 2 \n",
    "    1 \n",
    "    \n",
    "Sample Input 1\n",
    "\n",
    "5\n",
    "\n",
    "Sample Output 1"
   ]
  },
  {
   "cell_type": "code",
   "execution_count": null,
   "metadata": {},
   "outputs": [],
   "source": [
    "1 2 3 4 5 \n",
    " 1     4 \n",
    "  1   3 \n",
    "   1 2 \n",
    "    1 "
   ]
  },
  {
   "cell_type": "code",
   "execution_count": 4,
   "metadata": {},
   "outputs": [
    {
     "name": "stdout",
     "output_type": "stream",
     "text": [
      "5\n",
      "1 2 3 4 5 \n",
      " 1     4\n",
      "  1   3\n",
      "   1 2 \n",
      "    1 \n"
     ]
    }
   ],
   "source": [
    "N = int(input())\n",
    "\n",
    "for i in range(1, N+1):\n",
    "    if i > 1 and i < N-1:\n",
    "        starting_hollow_spaces = ' '*(i-1)\n",
    "        between_hollow_spaces = '  '*(N-i-1)\n",
    "        print(starting_hollow_spaces + '1 ' + between_hollow_spaces + str(N+1-i))\n",
    "    else:\n",
    "        number = ' '*(i-1)\n",
    "        for j in range(1, N-i+2):\n",
    "            number = number + str(j) + ' '\n",
    "        print(number)\n",
    "        \n",
    "#follow the same logic as used in above question. There is little change in this question as compared to previous \n",
    "#one. Just reverse pattern is used in this question."
   ]
  },
  {
   "cell_type": "code",
   "execution_count": null,
   "metadata": {},
   "outputs": [],
   "source": []
  },
  {
   "cell_type": "code",
   "execution_count": null,
   "metadata": {},
   "outputs": [],
   "source": []
  }
 ],
 "metadata": {
  "kernelspec": {
   "display_name": "Python 3",
   "language": "python",
   "name": "python3"
  },
  "language_info": {
   "codemirror_mode": {
    "name": "ipython",
    "version": 3
   },
   "file_extension": ".py",
   "mimetype": "text/x-python",
   "name": "python",
   "nbconvert_exporter": "python",
   "pygments_lexer": "ipython3",
   "version": "3.7.6"
  }
 },
 "nbformat": 4,
 "nbformat_minor": 4
}
