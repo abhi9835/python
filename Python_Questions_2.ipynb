{
  "nbformat": 4,
  "nbformat_minor": 0,
  "metadata": {
    "colab": {
      "name": "python.ipynb",
      "provenance": []
    },
    "kernelspec": {
      "name": "python3",
      "display_name": "Python 3"
    },
    "language_info": {
      "name": "python"
    }
  },
  "cells": [
    {
      "cell_type": "markdown",
      "metadata": {
        "id": "NxDRgYK4usgJ"
      },
      "source": [
        "Lucky Number\n",
        "\n",
        "Given two integers, they are considered a lucky pair if any one of them is 6 or if their sum or difference is equal to 6.\n",
        "\n",
        "Input\n",
        "\n",
        "The first line of input contains a number.\n",
        "\n",
        "The second line of input contains a number.\n",
        "\n",
        "Output\n",
        "\n",
        "If the given conditions are satisfied, print \"Lucky\".  In all other cases, print \"Not Lucky\".\n",
        "\n",
        "Explanation\n",
        "\n",
        "For example, if the given numbers are 6 and 1. One of the given two numbers is 6. So the output should be \"Lucky\".\n",
        "Whereas, if the given numbers are 3 and 2, they do not satisfy any of the conditions. So the output should be \"Not Lucky\".\n",
        "\n",
        "sample Input\n",
        "\n",
        "6\n",
        "\n",
        "1\n",
        "\n",
        "sample output\n",
        "\n",
        "Lucky\n"
      ]
    },
    {
      "cell_type": "code",
      "metadata": {
        "id": "qxS8tEG8unTF",
        "colab": {
          "base_uri": "https://localhost:8080/"
        },
        "outputId": "c69d8ec7-fe6f-4997-a646-a47203efbaaa"
      },
      "source": [
        "integer_1 = int(input())\n",
        "integer_2 = int(input())\n",
        "\n",
        "if integer_1 + integer_2 == 6 or integer_1 - integer_2 == 6:\n",
        "  print('Lucky')\n",
        "else:\n",
        "  print('Not Lucky')\n",
        "\n",
        "\n"
      ],
      "execution_count": 5,
      "outputs": [
        {
          "output_type": "stream",
          "text": [
            "24\n",
            "18\n",
            "Lucky\n"
          ],
          "name": "stdout"
        }
      ]
    },
    {
      "cell_type": "markdown",
      "metadata": {
        "id": "E6L5uANZ6f0P"
      },
      "source": [
        "Lucky Number - 2\n",
        "\n",
        "Write a program to print if the given number is divisible by any of the lucky numbers 6, 3, 2 in decreasing order of priority(6 is luckier than 3 and 3 is luckier than 2).\n",
        "Print \"Number is divisible by\" followed by the luckiest number among the above 3 which can divide the number.\n",
        "Print \"Number is not divisible by 2, 3 or 6\" if the number is not divisible by any of them.\n",
        "\n",
        "Input\n",
        "\n",
        "The input will be a single line containing a positive number.\n",
        "\n",
        "Output\n",
        "\n",
        "If the given number is divisible by 6, print \"Number is divisible by 6\".\n",
        "If the given number is divisible by 3, print \"Number is divisible by 3\".\n",
        "If the given number is divisible by 2, print \"Number is divisible by 2\".\n",
        "In all other cases print \"Number is not divisible by 2, 3 or 6\".\n",
        "\n",
        "Explanation\n",
        "\n",
        "In the example 126 is divisible by 2, 3 and 6\n",
        "But 6 takes precedence because 6 is luckiest amongst the three. So the output should be \"Number is divisible by 6\"\n",
        "\n",
        "Sample Input:\n",
        "\n",
        "126\n",
        "\n",
        "Sample Output:\n",
        "\n",
        "Number is divisible by 6\n",
        "\n",
        "\n"
      ]
    },
    {
      "cell_type": "code",
      "metadata": {
        "id": "2wmA_rJSunWA",
        "colab": {
          "base_uri": "https://localhost:8080/"
        },
        "outputId": "27ec2a8a-11b1-4bc6-c962-966b7da21274"
      },
      "source": [
        "number = int(input())\n",
        "remainder_2 = number%2 == 0\n",
        "remainder_3 = number%3 == 0\n",
        "\n",
        "is_lucky_number = False\n",
        "\n",
        "if remainder_2 and remainder_3:\n",
        "    print('Number is divisible by 6')\n",
        "    is_lucky_number = True\n",
        "elif remainder_3 and is_lucky_number == False:\n",
        "    print('Number is divisible by 3')\n",
        "    is_lucky_number = True\n",
        "elif remainder_2 and is_lucky_number == False:\n",
        "    print('Number is divisible by 2')\n",
        "else:\n",
        "    print('Number is not divisible by 2, 3 or 6')\n",
        "    \n",
        "\n",
        "    "
      ],
      "execution_count": 6,
      "outputs": [
        {
          "output_type": "stream",
          "text": [
            "126\n",
            "Number is divisible by 6\n"
          ],
          "name": "stdout"
        }
      ]
    },
    {
      "cell_type": "markdown",
      "metadata": {
        "id": "MIcA5Hm6_vn0"
      },
      "source": [
        "Permission to attempt Exam\n",
        "\n",
        "Given a student's percentage of attendance and status of having a medical report. Write a program to decide if a student is eligible to take the final exam.\n",
        "\n",
        "Input\n",
        "\n",
        "The first line of input will contain a string.\n",
        "\n",
        "The second line of input will contain a character(either \"Y\" or \"N\").\n",
        "\n",
        "Output\n",
        "\n",
        "If the student has greater than or equal to 75% of attendance, print \"Allowed to write exam\".\n",
        "\n",
        "If the student has less than 75% of attendance and has a medical reason is equal to \"Y\", print \"Allowed to write exam\".\n",
        "\n",
        "If the student has attendance less than 75% with no medical reason is equal to \"N\", print \"Cannot write exam\".\n",
        "\n",
        "Explanation\n",
        "\n",
        "For example, if the given student has an attendance of 80%, which is greater than the required percentage, the output should be \"Allowed to write exam\".\n",
        "Similarly, if the given student has an attendance of 70% and the medical reason \"Y\". As the student has the medical reason, the output should be \"Allowed to write exam\".\n",
        "Whereas, if the given student has an attendance of 72%, which is less than the required percentage and the medical reason \"N\". As the student has no medical reason, the output should be \"Cannot write exam\".\n",
        "\n",
        "Sample Input 1\n",
        "\n",
        "80%\n",
        "Y\n",
        "\n",
        "Sample Output 1\n",
        "\n",
        "Allowed to write exam"
      ]
    },
    {
      "cell_type": "code",
      "metadata": {
        "id": "ji6zBUQouneq",
        "colab": {
          "base_uri": "https://localhost:8080/"
        },
        "outputId": "9c4c4140-e86f-46d3-e102-26cea4da7b03"
      },
      "source": [
        "attendence = input()\n",
        "medical_reason = input()\n",
        "attendence_1 = attendence[0:len(attendence)-1] #it will take out all the digits except the last one from the input string.\n",
        "attendence_1 = int(attendence_1)\n",
        "# print(attendence_1)\n",
        "# print(type(attendence_1))\n",
        "if attendence_1 >= 75 and medical_reason == 'N':\n",
        "    print('Allowed to write exam')\n",
        "elif attendence_1 >= 75 and medical_reason == 'Y':\n",
        "    print('Allowed to write exam')\n",
        "elif attendence_1 < 75 and medical_reason == 'Y':\n",
        "    print('Allowed to write exam')\n",
        "else:\n",
        "    print('Cannot write exam')\n",
        "\n"
      ],
      "execution_count": 1,
      "outputs": [
        {
          "output_type": "stream",
          "text": [
            "80%\n",
            "Y\n",
            "Allowed to write exam\n"
          ],
          "name": "stdout"
        }
      ]
    },
    {
      "cell_type": "markdown",
      "metadata": {
        "id": "E-sS9xL8_gAP"
      },
      "source": [
        "Denominations\n",
        "\n",
        "Given an amount, write a program to find the minimum number of notes of different denominations that sum up to the given amount.\n",
        "Available note denominations are 100, 50, 10, 1.\n",
        "\n",
        "Input\n",
        "\n",
        "The input will be a single line containing an integer.\n",
        "\n",
        "Output\n",
        "\n",
        "The first line of output should contain the number of 100 notes, print \"100:a\".\n",
        "The second line of output should contain the number of 50 notes, print \"50:b\".\n",
        "The third line of output should contain the number of 10 notes., print \"10:c\".\n",
        "The fourth line of output should contain the number of 1 notes, print \"1:d\".\n",
        "In place of (a, b, c, d), print the count of corresponding notes.\n",
        "\n",
        "Explanation\n",
        "\n",
        "For example, if the given amount is 893, in this problem you have to give the minimum number of notes that sum up to the given amount. Since we only have notes with denomination 100, 50, 10 and 1, we can only use these notes. \n",
        "\n",
        "Number of 100 notes => 100 x 8 = 800\n",
        "\n",
        "Number of 50 notes => 50 x 1 = 50\n",
        "\n",
        "Number of 10 notes => 10 x 4 = 40\n",
        "\n",
        "Number of 1 notes => 1 x 3 = 3\n",
        "----------------------------------------\n",
        "Total => 893\n",
        "----------------------------------------\n",
        "\n",
        "So the output should be\n",
        "\n",
        "100:8 \n",
        "\n",
        "50:1\n",
        "\n",
        "10:4\n",
        "\n",
        "1:3\n",
        "\n",
        "Sample Input 1\n",
        "\n",
        "893\n",
        "\n",
        "Sample Output 1\n",
        "\n",
        "100:8 \n",
        "\n",
        "50:1\n",
        "\n",
        "10:4\n",
        "\n",
        "1:3\n"
      ]
    },
    {
      "cell_type": "code",
      "metadata": {
        "id": "XDOuihL3unir",
        "colab": {
          "base_uri": "https://localhost:8080/"
        },
        "outputId": "43779e85-55ca-4d21-b172-fb152fc97955"
      },
      "source": [
        "given_amount = int(input())\n",
        "a = given_amount//100\n",
        "b = given_amount - a*100\n",
        "b_1 = b//50\n",
        "c = given_amount - a*100 - b_1*50\n",
        "c_1 = c//10\n",
        "d = given_amount - a*100 - b_1*50 - c_1*10\n",
        "if a > 0 or b_1 > 0 or c_1 > 0 or d > 0:\n",
        "    print(\"100:{value}\".format(value = a))\n",
        "    print(\"50:{value}\".format(value = b_1))\n",
        "    print(\"10:{value}\".format(value = c_1))\n",
        "    print(\"1:{value}\".format(value = d))\n",
        "else:\n",
        "    print(\"100:{value}\".format(value = 0))\n",
        "    print(\"50:{value}\".format(value = 0))\n",
        "    print(\"10:{value}\".format(value = 0))\n",
        "    print(\"1:{value}\".format(value = 0))"
      ],
      "execution_count": 1,
      "outputs": [
        {
          "output_type": "stream",
          "text": [
            "893\n",
            "100:8\n",
            "50:1\n",
            "10:4\n",
            "1:3\n"
          ],
          "name": "stdout"
        }
      ]
    },
    {
      "cell_type": "code",
      "metadata": {
        "id": "5jZnugO4Ak8N"
      },
      "source": [
        ""
      ],
      "execution_count": null,
      "outputs": []
    },
    {
      "cell_type": "code",
      "metadata": {
        "id": "gI0xHX_jAk-l"
      },
      "source": [
        ""
      ],
      "execution_count": null,
      "outputs": []
    },
    {
      "cell_type": "code",
      "metadata": {
        "id": "u45IapWaAlAt"
      },
      "source": [
        ""
      ],
      "execution_count": null,
      "outputs": []
    },
    {
      "cell_type": "code",
      "metadata": {
        "id": "PJ-1mAv-AlCs"
      },
      "source": [
        ""
      ],
      "execution_count": null,
      "outputs": []
    },
    {
      "cell_type": "code",
      "metadata": {
        "id": "Vfm3fpwUAlFX"
      },
      "source": [
        ""
      ],
      "execution_count": null,
      "outputs": []
    },
    {
      "cell_type": "code",
      "metadata": {
        "id": "kDbaGRD8unlv"
      },
      "source": [
        ""
      ],
      "execution_count": null,
      "outputs": []
    },
    {
      "cell_type": "code",
      "metadata": {
        "id": "FiIL3cYcunoR"
      },
      "source": [
        ""
      ],
      "execution_count": null,
      "outputs": []
    },
    {
      "cell_type": "code",
      "metadata": {
        "id": "jdS86AcImRP9"
      },
      "source": [
        ""
      ],
      "execution_count": null,
      "outputs": []
    },
    {
      "cell_type": "code",
      "metadata": {
        "id": "avqnowoCmRS2"
      },
      "source": [
        ""
      ],
      "execution_count": null,
      "outputs": []
    },
    {
      "cell_type": "code",
      "metadata": {
        "id": "n-5LsTuDmRWR"
      },
      "source": [
        ""
      ],
      "execution_count": null,
      "outputs": []
    },
    {
      "cell_type": "code",
      "metadata": {
        "id": "xTirXjSWmRYi"
      },
      "source": [
        ""
      ],
      "execution_count": null,
      "outputs": []
    },
    {
      "cell_type": "code",
      "metadata": {
        "id": "HBl_oxn7mRbc"
      },
      "source": [
        ""
      ],
      "execution_count": null,
      "outputs": []
    },
    {
      "cell_type": "code",
      "metadata": {
        "id": "ptbHqulHmReQ"
      },
      "source": [
        ""
      ],
      "execution_count": null,
      "outputs": []
    },
    {
      "cell_type": "code",
      "metadata": {
        "id": "YveK6liYmRgo"
      },
      "source": [
        ""
      ],
      "execution_count": null,
      "outputs": []
    }
  ]
}
